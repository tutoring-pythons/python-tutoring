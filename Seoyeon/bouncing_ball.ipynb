{
 "cells": [
  {
   "cell_type": "code",
   "execution_count": null,
   "metadata": {},
   "outputs": [],
   "source": [
    "from tkinter import *\n",
    "import time\n",
    "import random\n",
    "\n",
    "window = Tk()\n",
    "\n",
    "canvas=Canvas(window, width=600,height=400)\n",
    "canvas.pack()\n",
    "\n",
    "class Ball():\n",
    "    def __init__(self,color,size):    \n",
    "        self.id=canvas.create_oval(0, 0, size, size,fill=color)\n",
    "        self.dx=random.randint(1,10)\n",
    "        self.dy=random.randint(1,10)   \n",
    "        \n",
    "    def move(self):\n",
    "        canvas.move(self.id,self.dx,self.dy)\n",
    "        x0, y0, x1, y1 = canvas.coords(self.id)\n",
    "        if y1 > canvas.winfo_height() or y0 < 0:\n",
    "            self.dy = -self.dy      \n",
    "        if x1 > canvas.winfo_width() or x0 < 0:\t\n",
    "            self.dx = -self.dx          \n",
    "            \n",
    "\n",
    "\n",
    "colors = [\"red\", \"orange\", \"yellow\", \"green\", \"blue\", \"indigo\", \"violet\"]\n",
    "\n",
    "\n",
    "\n",
    "ballList = []\n",
    "for i in range(30):\n",
    "    ballList.append(Ball(random.choice(colors), 60))\n",
    "\n",
    "while True:\n",
    "    for i in range(30):\n",
    "        ballList[i].move()\n",
    "    window.update()\n",
    "    time.sleep(0.05)\n",
    "    \n",
    "\n",
    "window.mainloop()"
   ]
  }
 ],
 "metadata": {
  "language_info": {
   "name": "python"
  },
  "orig_nbformat": 4
 },
 "nbformat": 4,
 "nbformat_minor": 2
}
